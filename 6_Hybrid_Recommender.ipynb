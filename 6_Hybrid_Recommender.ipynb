{
  "nbformat": 4,
  "nbformat_minor": 0,
  "metadata": {
    "kernelspec": {
      "display_name": "Python 3",
      "language": "python",
      "name": "python3"
    },
    "language_info": {
      "codemirror_mode": {
        "name": "ipython",
        "version": 3
      },
      "file_extension": ".py",
      "mimetype": "text/x-python",
      "name": "python",
      "nbconvert_exporter": "python",
      "pygments_lexer": "ipython3",
      "version": "3.6.0"
    },
    "colab": {
      "name": "6_Hybrid Recommender.ipynb",
      "provenance": [],
      "toc_visible": true,
      "include_colab_link": true
    }
  },
  "cells": [
    {
      "cell_type": "markdown",
      "metadata": {
        "id": "view-in-github",
        "colab_type": "text"
      },
      "source": [
        "<a href=\"https://colab.research.google.com/github/otanet/RecSys/blob/master/6_Hybrid_Recommender.ipynb\" target=\"_parent\"><img src=\"https://colab.research.google.com/assets/colab-badge.svg\" alt=\"Open In Colab\"/></a>"
      ]
    },
    {
      "cell_type": "markdown",
      "metadata": {
        "id": "ZcNf2JwHBypG",
        "colab_type": "text"
      },
      "source": [
        "# Hybrid Recommenders"
      ]
    },
    {
      "cell_type": "code",
      "metadata": {
        "id": "Piib9B95BypI",
        "colab_type": "code",
        "colab": {
          "base_uri": "https://localhost:8080/",
          "height": 128
        },
        "outputId": "a896eb80-5978-4a98-a8de-6377550317e4"
      },
      "source": [
        "from google.colab import drive\n",
        "drive.mount('/content/drive')"
      ],
      "execution_count": 2,
      "outputs": [
        {
          "output_type": "stream",
          "text": [
            "Go to this URL in a browser: https://accounts.google.com/o/oauth2/auth?client_id=947318989803-6bn6qk8qdgf4n4g3pfee6491hc0brc4i.apps.googleusercontent.com&redirect_uri=urn%3aietf%3awg%3aoauth%3a2.0%3aoob&response_type=code&scope=email%20https%3a%2f%2fwww.googleapis.com%2fauth%2fdocs.test%20https%3a%2f%2fwww.googleapis.com%2fauth%2fdrive%20https%3a%2f%2fwww.googleapis.com%2fauth%2fdrive.photos.readonly%20https%3a%2f%2fwww.googleapis.com%2fauth%2fpeopleapi.readonly\n",
            "\n",
            "Enter your authorization code:\n",
            "··········\n",
            "Mounted at /content/drive\n"
          ],
          "name": "stdout"
        }
      ]
    },
    {
      "cell_type": "code",
      "metadata": {
        "id": "mk6aTXLMB5l5",
        "colab_type": "code",
        "colab": {
          "base_uri": "https://localhost:8080/",
          "height": 35
        },
        "outputId": "7ca964ce-600e-4806-fff9-1bb723e01015"
      },
      "source": [
        "cd /content/drive/My\\ Drive/data"
      ],
      "execution_count": 3,
      "outputs": [
        {
          "output_type": "stream",
          "text": [
            "/content/drive/My Drive/data\n"
          ],
          "name": "stdout"
        }
      ]
    },
    {
      "cell_type": "code",
      "metadata": {
        "id": "UtT1GZW6B5pg",
        "colab_type": "code",
        "colab": {
          "base_uri": "https://localhost:8080/",
          "height": 53
        },
        "outputId": "29128565-bd34-4703-af70-cc4128b55c3e"
      },
      "source": [
        "ls"
      ],
      "execution_count": 4,
      "outputs": [
        {
          "output_type": "stream",
          "text": [
            "cosine_sim.csv      credits.csv   metadata_clean.csv  movies_metadata.csv\n",
            "cosine_sim_map.csv  keywords.csv  movie_ids.csv       ratings_small.csv\n"
          ],
          "name": "stdout"
        }
      ]
    },
    {
      "cell_type": "code",
      "metadata": {
        "id": "Wqlu0DRNGU2t",
        "colab_type": "code",
        "colab": {}
      },
      "source": [
        "!pip install scikit-surprise"
      ],
      "execution_count": 0,
      "outputs": []
    },
    {
      "cell_type": "code",
      "metadata": {
        "id": "0b0PZALmB31x",
        "colab_type": "code",
        "colab": {}
      },
      "source": [
        "import numpy as np\n",
        "import pandas as pd\n",
        "\n",
        "from surprise import SVD\n",
        "from surprise import Dataset\n",
        "from surprise import Reader\n",
        "from surprise import accuracy\n",
        "from surprise.model_selection import PredefinedKFold\n",
        "\n",
        "from surprise.model_selection import cross_validate\n",
        "\n",
        "from surprise.model_selection import KFold\n",
        "from surprise.model_selection import cross_validate"
      ],
      "execution_count": 0,
      "outputs": []
    },
    {
      "cell_type": "code",
      "metadata": {
        "id": "4deAjr8VBypX",
        "colab_type": "code",
        "colab": {}
      },
      "source": [
        "#Import or compute the cosine_sim matrix\n",
        "cosine_sim = pd.read_csv('cosine_sim.csv')"
      ],
      "execution_count": 0,
      "outputs": []
    },
    {
      "cell_type": "code",
      "metadata": {
        "id": "lyb24eoDBypi",
        "colab_type": "code",
        "colab": {}
      },
      "source": [
        "#Import or compute the cosine sim mapping matrix\n",
        "cosine_sim_map = pd.read_csv('cosine_sim_map.csv', header=None)\n",
        "\n",
        "#Convert cosine_sim_map into a Pandas Series\n",
        "cosine_sim_map = cosine_sim_map.set_index(0)\n",
        "cosine_sim_map = cosine_sim_map[1]"
      ],
      "execution_count": 0,
      "outputs": []
    },
    {
      "cell_type": "code",
      "metadata": {
        "id": "KsBA_cS9DFKP",
        "colab_type": "code",
        "colab": {}
      },
      "source": [
        ""
      ],
      "execution_count": 0,
      "outputs": []
    },
    {
      "cell_type": "code",
      "metadata": {
        "id": "9ulkdUkuBypp",
        "colab_type": "code",
        "colab": {
          "base_uri": "https://localhost:8080/",
          "height": 35
        },
        "outputId": "6fdf0892-497d-4b97-887c-c028c45d2f1c"
      },
      "source": [
        "#Build the SVD based Collaborative filter\n",
        "from surprise import SVD, Reader, Dataset\n",
        "\n",
        "reader = Reader()\n",
        "ratings = pd.read_csv('ratings_small.csv')\n",
        "data = Dataset.load_from_df(ratings[['userId', 'movieId', 'rating']], reader)\n",
        "#data.split(n_folds=5)\n",
        "trainset = data.build_full_trainset()\n",
        "#algo.fit(trainset)\n",
        "svd = SVD()\n",
        "#trainset = data.build_full_trainset()\n",
        "svd.fit(trainset)\n",
        "#svd.train(trainset)\n",
        "\n",
        "\n",
        "# We'll use the famous SVD algorithm.\n",
        "#algo = SVD()\n",
        "\n",
        "# Run 5-fold cross-validation and print results\n",
        "#cross_validate(algo, data, measures=['RMSE', 'MAE'], cv=5, verbose=True)"
      ],
      "execution_count": 29,
      "outputs": [
        {
          "output_type": "execute_result",
          "data": {
            "text/plain": [
              "<surprise.prediction_algorithms.matrix_factorization.SVD at 0x7f69cdf29438>"
            ]
          },
          "metadata": {
            "tags": []
          },
          "execution_count": 29
        }
      ]
    },
    {
      "cell_type": "code",
      "metadata": {
        "id": "gOQ5iVPFBypw",
        "colab_type": "code",
        "colab": {}
      },
      "source": [
        "#Build title to ID and ID to title mappings\n",
        "id_map = pd.read_csv('movie_ids.csv')\n",
        "id_to_title = id_map.set_index('id')\n",
        "title_to_id = id_map.set_index('title')"
      ],
      "execution_count": 0,
      "outputs": []
    },
    {
      "cell_type": "code",
      "metadata": {
        "id": "ij8U28yrByp4",
        "colab_type": "code",
        "colab": {}
      },
      "source": [
        "#Import or compute relevant metadata of the movies\n",
        "smd = pd.read_csv('metadata_small.csv')"
      ],
      "execution_count": 0,
      "outputs": []
    },
    {
      "cell_type": "code",
      "metadata": {
        "id": "_fGTaeVLByp-",
        "colab_type": "code",
        "colab": {}
      },
      "source": [
        "def hybrid(userId, title):\n",
        "    #Extract the cosine_sim index of the movie\n",
        "    idx = cosine_sim_map[title]\n",
        "    \n",
        "    #Extract the TMDB ID of the movie\n",
        "    tmdbId = title_to_id.loc[title]['id']\n",
        "    \n",
        "    #Extract the movie ID internally assigned by the dataset\n",
        "    movie_id = title_to_id.loc[title]['movieId']\n",
        "    \n",
        "    #Extract the similarity scores and their corresponding index for every movie from the cosine_sim matrix\n",
        "    sim_scores = list(enumerate(cosine_sim[str(int(idx))]))\n",
        "    \n",
        "    #Sort the (index, score) tuples in decreasing order of similarity scores\n",
        "    sim_scores = sorted(sim_scores, key=lambda x: x[1], reverse=True)\n",
        "    \n",
        "    #Select the top 25 tuples, excluding the first \n",
        "    #(as it is the similarity score of the movie with itself)\n",
        "    sim_scores = sim_scores[1:26]\n",
        "    \n",
        "    #Store the cosine_sim indices of the top 25 movies in a list\n",
        "    movie_indices = [i[0] for i in sim_scores]\n",
        "\n",
        "    #Extract the metadata of the aforementioned movies\n",
        "    movies = smd.iloc[movie_indices][['title', 'vote_count', 'vote_average', 'year', 'id']]\n",
        "    \n",
        "    #Compute the predicted ratings using the SVD filter\n",
        "    movies['est'] = movies['id'].apply(lambda x: svd.predict(userId, id_to_title.loc[x]['movieId']).est)\n",
        "    \n",
        "    #Sort the movies in decreasing order of predicted rating\n",
        "    movies = movies.sort_values('est', ascending=False)\n",
        "    \n",
        "    #Return the top 10 movies as recommendations\n",
        "    return movies.head(10)"
      ],
      "execution_count": 0,
      "outputs": []
    },
    {
      "cell_type": "code",
      "metadata": {
        "id": "KqYi9NYdByqC",
        "colab_type": "code",
        "colab": {
          "base_uri": "https://localhost:8080/",
          "height": 363
        },
        "outputId": "65694b3f-d552-4a55-9e1f-586f32764c07"
      },
      "source": [
        "hybrid(1, 'Avatar')"
      ],
      "execution_count": 35,
      "outputs": [
        {
          "output_type": "execute_result",
          "data": {
            "text/html": [
              "<div>\n",
              "<style scoped>\n",
              "    .dataframe tbody tr th:only-of-type {\n",
              "        vertical-align: middle;\n",
              "    }\n",
              "\n",
              "    .dataframe tbody tr th {\n",
              "        vertical-align: top;\n",
              "    }\n",
              "\n",
              "    .dataframe thead th {\n",
              "        text-align: right;\n",
              "    }\n",
              "</style>\n",
              "<table border=\"1\" class=\"dataframe\">\n",
              "  <thead>\n",
              "    <tr style=\"text-align: right;\">\n",
              "      <th></th>\n",
              "      <th>title</th>\n",
              "      <th>vote_count</th>\n",
              "      <th>vote_average</th>\n",
              "      <th>year</th>\n",
              "      <th>id</th>\n",
              "      <th>est</th>\n",
              "    </tr>\n",
              "  </thead>\n",
              "  <tbody>\n",
              "    <tr>\n",
              "      <th>1011</th>\n",
              "      <td>The Terminator</td>\n",
              "      <td>4208.0</td>\n",
              "      <td>7.4</td>\n",
              "      <td>1984</td>\n",
              "      <td>218</td>\n",
              "      <td>3.207429</td>\n",
              "    </tr>\n",
              "    <tr>\n",
              "      <th>522</th>\n",
              "      <td>Terminator 2: Judgment Day</td>\n",
              "      <td>4274.0</td>\n",
              "      <td>7.7</td>\n",
              "      <td>1991</td>\n",
              "      <td>280</td>\n",
              "      <td>3.160871</td>\n",
              "    </tr>\n",
              "    <tr>\n",
              "      <th>8658</th>\n",
              "      <td>X-Men: Days of Future Past</td>\n",
              "      <td>6155.0</td>\n",
              "      <td>7.5</td>\n",
              "      <td>2014</td>\n",
              "      <td>127585</td>\n",
              "      <td>3.142554</td>\n",
              "    </tr>\n",
              "    <tr>\n",
              "      <th>974</th>\n",
              "      <td>Aliens</td>\n",
              "      <td>3282.0</td>\n",
              "      <td>7.7</td>\n",
              "      <td>1986</td>\n",
              "      <td>679</td>\n",
              "      <td>3.094333</td>\n",
              "    </tr>\n",
              "    <tr>\n",
              "      <th>7705</th>\n",
              "      <td>Alice in Wonderland</td>\n",
              "      <td>8.0</td>\n",
              "      <td>5.4</td>\n",
              "      <td>1933</td>\n",
              "      <td>25694</td>\n",
              "      <td>2.938126</td>\n",
              "    </tr>\n",
              "    <tr>\n",
              "      <th>2834</th>\n",
              "      <td>Predator</td>\n",
              "      <td>2129.0</td>\n",
              "      <td>7.3</td>\n",
              "      <td>1987</td>\n",
              "      <td>106</td>\n",
              "      <td>2.904674</td>\n",
              "    </tr>\n",
              "    <tr>\n",
              "      <th>1668</th>\n",
              "      <td>Return from Witch Mountain</td>\n",
              "      <td>38.0</td>\n",
              "      <td>5.6</td>\n",
              "      <td>1978</td>\n",
              "      <td>14822</td>\n",
              "      <td>2.881617</td>\n",
              "    </tr>\n",
              "    <tr>\n",
              "      <th>922</th>\n",
              "      <td>The Abyss</td>\n",
              "      <td>822.0</td>\n",
              "      <td>7.1</td>\n",
              "      <td>1989</td>\n",
              "      <td>2756</td>\n",
              "      <td>2.877822</td>\n",
              "    </tr>\n",
              "    <tr>\n",
              "      <th>2014</th>\n",
              "      <td>Fantastic Planet</td>\n",
              "      <td>140.0</td>\n",
              "      <td>7.6</td>\n",
              "      <td>1973</td>\n",
              "      <td>16306</td>\n",
              "      <td>2.866388</td>\n",
              "    </tr>\n",
              "    <tr>\n",
              "      <th>8865</th>\n",
              "      <td>Star Wars: The Force Awakens</td>\n",
              "      <td>7993.0</td>\n",
              "      <td>7.5</td>\n",
              "      <td>2015</td>\n",
              "      <td>140607</td>\n",
              "      <td>2.782715</td>\n",
              "    </tr>\n",
              "  </tbody>\n",
              "</table>\n",
              "</div>"
            ],
            "text/plain": [
              "                             title  vote_count  ...      id       est\n",
              "1011                The Terminator      4208.0  ...     218  3.207429\n",
              "522     Terminator 2: Judgment Day      4274.0  ...     280  3.160871\n",
              "8658    X-Men: Days of Future Past      6155.0  ...  127585  3.142554\n",
              "974                         Aliens      3282.0  ...     679  3.094333\n",
              "7705           Alice in Wonderland         8.0  ...   25694  2.938126\n",
              "2834                      Predator      2129.0  ...     106  2.904674\n",
              "1668    Return from Witch Mountain        38.0  ...   14822  2.881617\n",
              "922                      The Abyss       822.0  ...    2756  2.877822\n",
              "2014              Fantastic Planet       140.0  ...   16306  2.866388\n",
              "8865  Star Wars: The Force Awakens      7993.0  ...  140607  2.782715\n",
              "\n",
              "[10 rows x 6 columns]"
            ]
          },
          "metadata": {
            "tags": []
          },
          "execution_count": 35
        }
      ]
    },
    {
      "cell_type": "code",
      "metadata": {
        "id": "hwJUkZgUByqJ",
        "colab_type": "code",
        "colab": {
          "base_uri": "https://localhost:8080/",
          "height": 363
        },
        "outputId": "9556df6b-3cdc-48d5-b1e4-499ff343e18d"
      },
      "source": [
        "hybrid(2, 'Avatar')"
      ],
      "execution_count": 36,
      "outputs": [
        {
          "output_type": "execute_result",
          "data": {
            "text/html": [
              "<div>\n",
              "<style scoped>\n",
              "    .dataframe tbody tr th:only-of-type {\n",
              "        vertical-align: middle;\n",
              "    }\n",
              "\n",
              "    .dataframe tbody tr th {\n",
              "        vertical-align: top;\n",
              "    }\n",
              "\n",
              "    .dataframe thead th {\n",
              "        text-align: right;\n",
              "    }\n",
              "</style>\n",
              "<table border=\"1\" class=\"dataframe\">\n",
              "  <thead>\n",
              "    <tr style=\"text-align: right;\">\n",
              "      <th></th>\n",
              "      <th>title</th>\n",
              "      <th>vote_count</th>\n",
              "      <th>vote_average</th>\n",
              "      <th>year</th>\n",
              "      <th>id</th>\n",
              "      <th>est</th>\n",
              "    </tr>\n",
              "  </thead>\n",
              "  <tbody>\n",
              "    <tr>\n",
              "      <th>522</th>\n",
              "      <td>Terminator 2: Judgment Day</td>\n",
              "      <td>4274.0</td>\n",
              "      <td>7.7</td>\n",
              "      <td>1991</td>\n",
              "      <td>280</td>\n",
              "      <td>3.983453</td>\n",
              "    </tr>\n",
              "    <tr>\n",
              "      <th>1011</th>\n",
              "      <td>The Terminator</td>\n",
              "      <td>4208.0</td>\n",
              "      <td>7.4</td>\n",
              "      <td>1984</td>\n",
              "      <td>218</td>\n",
              "      <td>3.846616</td>\n",
              "    </tr>\n",
              "    <tr>\n",
              "      <th>2014</th>\n",
              "      <td>Fantastic Planet</td>\n",
              "      <td>140.0</td>\n",
              "      <td>7.6</td>\n",
              "      <td>1973</td>\n",
              "      <td>16306</td>\n",
              "      <td>3.799311</td>\n",
              "    </tr>\n",
              "    <tr>\n",
              "      <th>974</th>\n",
              "      <td>Aliens</td>\n",
              "      <td>3282.0</td>\n",
              "      <td>7.7</td>\n",
              "      <td>1986</td>\n",
              "      <td>679</td>\n",
              "      <td>3.711100</td>\n",
              "    </tr>\n",
              "    <tr>\n",
              "      <th>2834</th>\n",
              "      <td>Predator</td>\n",
              "      <td>2129.0</td>\n",
              "      <td>7.3</td>\n",
              "      <td>1987</td>\n",
              "      <td>106</td>\n",
              "      <td>3.646443</td>\n",
              "    </tr>\n",
              "    <tr>\n",
              "      <th>7705</th>\n",
              "      <td>Alice in Wonderland</td>\n",
              "      <td>8.0</td>\n",
              "      <td>5.4</td>\n",
              "      <td>1933</td>\n",
              "      <td>25694</td>\n",
              "      <td>3.586773</td>\n",
              "    </tr>\n",
              "    <tr>\n",
              "      <th>4966</th>\n",
              "      <td>Hercules in New York</td>\n",
              "      <td>63.0</td>\n",
              "      <td>3.7</td>\n",
              "      <td>1969</td>\n",
              "      <td>5227</td>\n",
              "      <td>3.578447</td>\n",
              "    </tr>\n",
              "    <tr>\n",
              "      <th>8865</th>\n",
              "      <td>Star Wars: The Force Awakens</td>\n",
              "      <td>7993.0</td>\n",
              "      <td>7.5</td>\n",
              "      <td>2015</td>\n",
              "      <td>140607</td>\n",
              "      <td>3.551712</td>\n",
              "    </tr>\n",
              "    <tr>\n",
              "      <th>8658</th>\n",
              "      <td>X-Men: Days of Future Past</td>\n",
              "      <td>6155.0</td>\n",
              "      <td>7.5</td>\n",
              "      <td>2014</td>\n",
              "      <td>127585</td>\n",
              "      <td>3.536026</td>\n",
              "    </tr>\n",
              "    <tr>\n",
              "      <th>7088</th>\n",
              "      <td>Star Wars: The Clone Wars</td>\n",
              "      <td>434.0</td>\n",
              "      <td>5.8</td>\n",
              "      <td>2008</td>\n",
              "      <td>12180</td>\n",
              "      <td>3.490607</td>\n",
              "    </tr>\n",
              "  </tbody>\n",
              "</table>\n",
              "</div>"
            ],
            "text/plain": [
              "                             title  vote_count  ...      id       est\n",
              "522     Terminator 2: Judgment Day      4274.0  ...     280  3.983453\n",
              "1011                The Terminator      4208.0  ...     218  3.846616\n",
              "2014              Fantastic Planet       140.0  ...   16306  3.799311\n",
              "974                         Aliens      3282.0  ...     679  3.711100\n",
              "2834                      Predator      2129.0  ...     106  3.646443\n",
              "7705           Alice in Wonderland         8.0  ...   25694  3.586773\n",
              "4966          Hercules in New York        63.0  ...    5227  3.578447\n",
              "8865  Star Wars: The Force Awakens      7993.0  ...  140607  3.551712\n",
              "8658    X-Men: Days of Future Past      6155.0  ...  127585  3.536026\n",
              "7088     Star Wars: The Clone Wars       434.0  ...   12180  3.490607\n",
              "\n",
              "[10 rows x 6 columns]"
            ]
          },
          "metadata": {
            "tags": []
          },
          "execution_count": 36
        }
      ]
    },
    {
      "cell_type": "code",
      "metadata": {
        "id": "b9PBMmiCByqP",
        "colab_type": "code",
        "colab": {}
      },
      "source": [
        ""
      ],
      "execution_count": 0,
      "outputs": []
    },
    {
      "cell_type": "code",
      "metadata": {
        "id": "mlpvLvk9ByqV",
        "colab_type": "code",
        "colab": {}
      },
      "source": [
        ""
      ],
      "execution_count": 0,
      "outputs": []
    }
  ]
}