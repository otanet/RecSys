{
  "nbformat": 4,
  "nbformat_minor": 0,
  "metadata": {
    "kernelspec": {
      "display_name": "Python 3",
      "language": "python",
      "name": "python3"
    },
    "language_info": {
      "codemirror_mode": {
        "name": "ipython",
        "version": 3
      },
      "file_extension": ".py",
      "mimetype": "text/x-python",
      "name": "python",
      "nbconvert_exporter": "python",
      "pygments_lexer": "ipython3",
      "version": "3.6.0"
    },
    "colab": {
      "name": "3_Knowledge Recommender.ipynb",
      "provenance": [],
      "include_colab_link": true
    }
  },
  "cells": [
    {
      "cell_type": "markdown",
      "metadata": {
        "id": "view-in-github",
        "colab_type": "text"
      },
      "source": [
        "<a href=\"https://colab.research.google.com/github/otanet/RecSys/blob/master/3_Knowledge_Recommender.ipynb\" target=\"_parent\"><img src=\"https://colab.research.google.com/assets/colab-badge.svg\" alt=\"Open In Colab\"/></a>"
      ]
    },
    {
      "cell_type": "code",
      "metadata": {
        "id": "8RyyUwY2nIHF",
        "colab_type": "code",
        "outputId": "4c6b22d3-6a3b-43a7-8774-d7b89d59949e",
        "colab": {
          "base_uri": "https://localhost:8080/",
          "height": 35
        }
      },
      "source": [
        "from google.colab import drive \n",
        "drive.mount('/content/drive')"
      ],
      "execution_count": 33,
      "outputs": [
        {
          "output_type": "stream",
          "text": [
            "Drive already mounted at /content/drive; to attempt to forcibly remount, call drive.mount(\"/content/drive\", force_remount=True).\n"
          ],
          "name": "stdout"
        }
      ]
    },
    {
      "cell_type": "code",
      "metadata": {
        "id": "IV6vQlWKnQKs",
        "colab_type": "code",
        "outputId": "4796156a-988a-48c3-a35e-2d40ec361bb7",
        "colab": {
          "base_uri": "https://localhost:8080/",
          "height": 35
        }
      },
      "source": [
        "cd /content/drive/My Drive/data/"
      ],
      "execution_count": 28,
      "outputs": [
        {
          "output_type": "stream",
          "text": [
            "/content/drive/My Drive/data\n"
          ],
          "name": "stdout"
        }
      ]
    },
    {
      "cell_type": "code",
      "metadata": {
        "id": "JduYHBgcnQNd",
        "colab_type": "code",
        "outputId": "fb305de1-a737-4504-a168-0bc6e87a53c1",
        "colab": {
          "base_uri": "https://localhost:8080/",
          "height": 35
        }
      },
      "source": [
        "pwd"
      ],
      "execution_count": 34,
      "outputs": [
        {
          "output_type": "execute_result",
          "data": {
            "text/plain": [
              "'/content/drive/My Drive/data'"
            ]
          },
          "metadata": {
            "tags": []
          },
          "execution_count": 34
        }
      ]
    },
    {
      "cell_type": "code",
      "metadata": {
        "id": "iYAQbJ4qnQQd",
        "colab_type": "code",
        "outputId": "c793d5db-c8f9-404e-a478-1249bc23cab7",
        "colab": {
          "base_uri": "https://localhost:8080/",
          "height": 35
        }
      },
      "source": [
        "ls"
      ],
      "execution_count": 35,
      "outputs": [
        {
          "output_type": "stream",
          "text": [
            "movies_metadata.csv\n"
          ],
          "name": "stdout"
        }
      ]
    },
    {
      "cell_type": "code",
      "metadata": {
        "id": "9k5WXxhxnQTu",
        "colab_type": "code",
        "colab": {}
      },
      "source": [
        "# upload the following file: 'movies_metadata.csv'\n",
        "# make sure that the file has done. "
      ],
      "execution_count": 0,
      "outputs": []
    },
    {
      "cell_type": "code",
      "metadata": {
        "id": "Hol5SPvSnOHM",
        "colab_type": "code",
        "outputId": "5de2fef0-3b81-4fec-e32a-ac216531d619",
        "colab": {
          "base_uri": "https://localhost:8080/",
          "height": 200
        }
      },
      "source": [
        "import pandas as pd\n",
        "import numpy as np\n",
        "\n",
        "df = pd.read_csv('movies_metadata.csv')\n",
        "\n",
        "#Print all the features (or columns) of the DataFrame\n",
        "df.columns"
      ],
      "execution_count": 37,
      "outputs": [
        {
          "output_type": "stream",
          "text": [
            "/usr/local/lib/python3.6/dist-packages/IPython/core/interactiveshell.py:2718: DtypeWarning: Columns (10) have mixed types.Specify dtype option on import or set low_memory=False.\n",
            "  interactivity=interactivity, compiler=compiler, result=result)\n"
          ],
          "name": "stderr"
        },
        {
          "output_type": "execute_result",
          "data": {
            "text/plain": [
              "Index(['adult', 'belongs_to_collection', 'budget', 'genres', 'homepage', 'id',\n",
              "       'imdb_id', 'original_language', 'original_title', 'overview',\n",
              "       'popularity', 'poster_path', 'production_companies',\n",
              "       'production_countries', 'release_date', 'revenue', 'runtime',\n",
              "       'spoken_languages', 'status', 'tagline', 'title', 'video',\n",
              "       'vote_average', 'vote_count'],\n",
              "      dtype='object')"
            ]
          },
          "metadata": {
            "tags": []
          },
          "execution_count": 37
        }
      ]
    },
    {
      "cell_type": "code",
      "metadata": {
        "id": "E-kZ50DlnIHT",
        "colab_type": "code",
        "outputId": "c6290b10-fdce-47b1-84bb-6a1272c48e23",
        "colab": {
          "base_uri": "https://localhost:8080/",
          "height": 206
        }
      },
      "source": [
        "#Only keep those features that we require \n",
        "df = df[['title','genres', 'release_date', 'runtime', 'vote_average', 'vote_count']]\n",
        "\n",
        "df.head()"
      ],
      "execution_count": 38,
      "outputs": [
        {
          "output_type": "execute_result",
          "data": {
            "text/html": [
              "<div>\n",
              "<style scoped>\n",
              "    .dataframe tbody tr th:only-of-type {\n",
              "        vertical-align: middle;\n",
              "    }\n",
              "\n",
              "    .dataframe tbody tr th {\n",
              "        vertical-align: top;\n",
              "    }\n",
              "\n",
              "    .dataframe thead th {\n",
              "        text-align: right;\n",
              "    }\n",
              "</style>\n",
              "<table border=\"1\" class=\"dataframe\">\n",
              "  <thead>\n",
              "    <tr style=\"text-align: right;\">\n",
              "      <th></th>\n",
              "      <th>title</th>\n",
              "      <th>genres</th>\n",
              "      <th>release_date</th>\n",
              "      <th>runtime</th>\n",
              "      <th>vote_average</th>\n",
              "      <th>vote_count</th>\n",
              "    </tr>\n",
              "  </thead>\n",
              "  <tbody>\n",
              "    <tr>\n",
              "      <th>0</th>\n",
              "      <td>Toy Story</td>\n",
              "      <td>[{'id': 16, 'name': 'Animation'}, {'id': 35, '...</td>\n",
              "      <td>1995-10-30</td>\n",
              "      <td>81.0</td>\n",
              "      <td>7.7</td>\n",
              "      <td>5415.0</td>\n",
              "    </tr>\n",
              "    <tr>\n",
              "      <th>1</th>\n",
              "      <td>Jumanji</td>\n",
              "      <td>[{'id': 12, 'name': 'Adventure'}, {'id': 14, '...</td>\n",
              "      <td>1995-12-15</td>\n",
              "      <td>104.0</td>\n",
              "      <td>6.9</td>\n",
              "      <td>2413.0</td>\n",
              "    </tr>\n",
              "    <tr>\n",
              "      <th>2</th>\n",
              "      <td>Grumpier Old Men</td>\n",
              "      <td>[{'id': 10749, 'name': 'Romance'}, {'id': 35, ...</td>\n",
              "      <td>1995-12-22</td>\n",
              "      <td>101.0</td>\n",
              "      <td>6.5</td>\n",
              "      <td>92.0</td>\n",
              "    </tr>\n",
              "    <tr>\n",
              "      <th>3</th>\n",
              "      <td>Waiting to Exhale</td>\n",
              "      <td>[{'id': 35, 'name': 'Comedy'}, {'id': 18, 'nam...</td>\n",
              "      <td>1995-12-22</td>\n",
              "      <td>127.0</td>\n",
              "      <td>6.1</td>\n",
              "      <td>34.0</td>\n",
              "    </tr>\n",
              "    <tr>\n",
              "      <th>4</th>\n",
              "      <td>Father of the Bride Part II</td>\n",
              "      <td>[{'id': 35, 'name': 'Comedy'}]</td>\n",
              "      <td>1995-02-10</td>\n",
              "      <td>106.0</td>\n",
              "      <td>5.7</td>\n",
              "      <td>173.0</td>\n",
              "    </tr>\n",
              "  </tbody>\n",
              "</table>\n",
              "</div>"
            ],
            "text/plain": [
              "                         title  ... vote_count\n",
              "0                    Toy Story  ...     5415.0\n",
              "1                      Jumanji  ...     2413.0\n",
              "2             Grumpier Old Men  ...       92.0\n",
              "3            Waiting to Exhale  ...       34.0\n",
              "4  Father of the Bride Part II  ...      173.0\n",
              "\n",
              "[5 rows x 6 columns]"
            ]
          },
          "metadata": {
            "tags": []
          },
          "execution_count": 38
        }
      ]
    },
    {
      "cell_type": "code",
      "metadata": {
        "id": "O_EIV35AnIHd",
        "colab_type": "code",
        "colab": {}
      },
      "source": [
        "#Convert release_date into pandas datetime format\n",
        "df['release_date'] = pd.to_datetime(df['release_date'], errors='coerce')\n",
        "\n",
        "#Extract year from the datetime\n",
        "df['year'] = df['release_date'].apply(lambda x: str(x).split('-')[0] if x != np.nan else np.nan)"
      ],
      "execution_count": 0,
      "outputs": []
    },
    {
      "cell_type": "code",
      "metadata": {
        "id": "tdB0e9p_nIHk",
        "colab_type": "code",
        "colab": {}
      },
      "source": [
        "#Helper function to convert NaT to 0 and all other years to integers.\n",
        "def convert_int(x):\n",
        "    try:\n",
        "        return int(x)\n",
        "    except:\n",
        "        return 0"
      ],
      "execution_count": 0,
      "outputs": []
    },
    {
      "cell_type": "code",
      "metadata": {
        "id": "BV2gFUMInIHq",
        "colab_type": "code",
        "colab": {}
      },
      "source": [
        "#Apply convert_int to the year feature\n",
        "df['year'] = df['year'].apply(convert_int)"
      ],
      "execution_count": 0,
      "outputs": []
    },
    {
      "cell_type": "code",
      "metadata": {
        "id": "T-Z_kEqwnIHx",
        "colab_type": "code",
        "outputId": "cc752792-18e9-4a00-b6f3-78479a756c08",
        "colab": {
          "base_uri": "https://localhost:8080/",
          "height": 206
        }
      },
      "source": [
        "#Drop the release_date column\n",
        "df = df.drop('release_date', axis=1)\n",
        "\n",
        "#Display the dataframe\n",
        "df.head()"
      ],
      "execution_count": 42,
      "outputs": [
        {
          "output_type": "execute_result",
          "data": {
            "text/html": [
              "<div>\n",
              "<style scoped>\n",
              "    .dataframe tbody tr th:only-of-type {\n",
              "        vertical-align: middle;\n",
              "    }\n",
              "\n",
              "    .dataframe tbody tr th {\n",
              "        vertical-align: top;\n",
              "    }\n",
              "\n",
              "    .dataframe thead th {\n",
              "        text-align: right;\n",
              "    }\n",
              "</style>\n",
              "<table border=\"1\" class=\"dataframe\">\n",
              "  <thead>\n",
              "    <tr style=\"text-align: right;\">\n",
              "      <th></th>\n",
              "      <th>title</th>\n",
              "      <th>genres</th>\n",
              "      <th>runtime</th>\n",
              "      <th>vote_average</th>\n",
              "      <th>vote_count</th>\n",
              "      <th>year</th>\n",
              "    </tr>\n",
              "  </thead>\n",
              "  <tbody>\n",
              "    <tr>\n",
              "      <th>0</th>\n",
              "      <td>Toy Story</td>\n",
              "      <td>[{'id': 16, 'name': 'Animation'}, {'id': 35, '...</td>\n",
              "      <td>81.0</td>\n",
              "      <td>7.7</td>\n",
              "      <td>5415.0</td>\n",
              "      <td>1995</td>\n",
              "    </tr>\n",
              "    <tr>\n",
              "      <th>1</th>\n",
              "      <td>Jumanji</td>\n",
              "      <td>[{'id': 12, 'name': 'Adventure'}, {'id': 14, '...</td>\n",
              "      <td>104.0</td>\n",
              "      <td>6.9</td>\n",
              "      <td>2413.0</td>\n",
              "      <td>1995</td>\n",
              "    </tr>\n",
              "    <tr>\n",
              "      <th>2</th>\n",
              "      <td>Grumpier Old Men</td>\n",
              "      <td>[{'id': 10749, 'name': 'Romance'}, {'id': 35, ...</td>\n",
              "      <td>101.0</td>\n",
              "      <td>6.5</td>\n",
              "      <td>92.0</td>\n",
              "      <td>1995</td>\n",
              "    </tr>\n",
              "    <tr>\n",
              "      <th>3</th>\n",
              "      <td>Waiting to Exhale</td>\n",
              "      <td>[{'id': 35, 'name': 'Comedy'}, {'id': 18, 'nam...</td>\n",
              "      <td>127.0</td>\n",
              "      <td>6.1</td>\n",
              "      <td>34.0</td>\n",
              "      <td>1995</td>\n",
              "    </tr>\n",
              "    <tr>\n",
              "      <th>4</th>\n",
              "      <td>Father of the Bride Part II</td>\n",
              "      <td>[{'id': 35, 'name': 'Comedy'}]</td>\n",
              "      <td>106.0</td>\n",
              "      <td>5.7</td>\n",
              "      <td>173.0</td>\n",
              "      <td>1995</td>\n",
              "    </tr>\n",
              "  </tbody>\n",
              "</table>\n",
              "</div>"
            ],
            "text/plain": [
              "                         title  ...  year\n",
              "0                    Toy Story  ...  1995\n",
              "1                      Jumanji  ...  1995\n",
              "2             Grumpier Old Men  ...  1995\n",
              "3            Waiting to Exhale  ...  1995\n",
              "4  Father of the Bride Part II  ...  1995\n",
              "\n",
              "[5 rows x 6 columns]"
            ]
          },
          "metadata": {
            "tags": []
          },
          "execution_count": 42
        }
      ]
    },
    {
      "cell_type": "code",
      "metadata": {
        "id": "lfN9GhVlnIH2",
        "colab_type": "code",
        "outputId": "de52c00b-6864-43a9-9ca6-077f681e53a5",
        "colab": {
          "base_uri": "https://localhost:8080/",
          "height": 35
        }
      },
      "source": [
        "#Print genres of the first movie\n",
        "df.iloc[0]['genres']"
      ],
      "execution_count": 43,
      "outputs": [
        {
          "output_type": "execute_result",
          "data": {
            "text/plain": [
              "\"[{'id': 16, 'name': 'Animation'}, {'id': 35, 'name': 'Comedy'}, {'id': 10751, 'name': 'Family'}]\""
            ]
          },
          "metadata": {
            "tags": []
          },
          "execution_count": 43
        }
      ]
    },
    {
      "cell_type": "code",
      "metadata": {
        "id": "4eYf2IFynIH7",
        "colab_type": "code",
        "outputId": "f996a25f-cd86-4ef9-9e9a-eb65bbe1e966",
        "colab": {
          "base_uri": "https://localhost:8080/",
          "height": 53
        }
      },
      "source": [
        "#Import the literal_eval function from ast\n",
        "from ast import literal_eval\n",
        "\n",
        "#Define a stringified list and output its type\n",
        "a = \"[1,2,3]\"\n",
        "print(type(a))\n",
        "\n",
        "#Apply literal_eval and output type\n",
        "b = literal_eval(a)\n",
        "print(type(b))"
      ],
      "execution_count": 44,
      "outputs": [
        {
          "output_type": "stream",
          "text": [
            "<class 'str'>\n",
            "<class 'list'>\n"
          ],
          "name": "stdout"
        }
      ]
    },
    {
      "cell_type": "code",
      "metadata": {
        "id": "3V9CAElXnIIA",
        "colab_type": "code",
        "colab": {}
      },
      "source": [
        "#Convert all NaN into stringified empty lists\n",
        "df['genres'] = df['genres'].fillna('[]')\n",
        "\n",
        "#Apply literal_eval to convert stringified empty lists to the list object\n",
        "df['genres'] = df['genres'].apply(literal_eval)\n",
        "\n",
        "#Convert list of dictionaries to a list of strings\n",
        "df['genres'] = df['genres'].apply(lambda x: [i['name'].lower() for i in x] if isinstance(x, list) else [])"
      ],
      "execution_count": 0,
      "outputs": []
    },
    {
      "cell_type": "code",
      "metadata": {
        "id": "-CtkA51XnIIF",
        "colab_type": "code",
        "outputId": "068ed296-d66c-4d43-9b1d-87918b0b12da",
        "colab": {
          "base_uri": "https://localhost:8080/",
          "height": 206
        }
      },
      "source": [
        "df.head()"
      ],
      "execution_count": 46,
      "outputs": [
        {
          "output_type": "execute_result",
          "data": {
            "text/html": [
              "<div>\n",
              "<style scoped>\n",
              "    .dataframe tbody tr th:only-of-type {\n",
              "        vertical-align: middle;\n",
              "    }\n",
              "\n",
              "    .dataframe tbody tr th {\n",
              "        vertical-align: top;\n",
              "    }\n",
              "\n",
              "    .dataframe thead th {\n",
              "        text-align: right;\n",
              "    }\n",
              "</style>\n",
              "<table border=\"1\" class=\"dataframe\">\n",
              "  <thead>\n",
              "    <tr style=\"text-align: right;\">\n",
              "      <th></th>\n",
              "      <th>title</th>\n",
              "      <th>genres</th>\n",
              "      <th>runtime</th>\n",
              "      <th>vote_average</th>\n",
              "      <th>vote_count</th>\n",
              "      <th>year</th>\n",
              "    </tr>\n",
              "  </thead>\n",
              "  <tbody>\n",
              "    <tr>\n",
              "      <th>0</th>\n",
              "      <td>Toy Story</td>\n",
              "      <td>[animation, comedy, family]</td>\n",
              "      <td>81.0</td>\n",
              "      <td>7.7</td>\n",
              "      <td>5415.0</td>\n",
              "      <td>1995</td>\n",
              "    </tr>\n",
              "    <tr>\n",
              "      <th>1</th>\n",
              "      <td>Jumanji</td>\n",
              "      <td>[adventure, fantasy, family]</td>\n",
              "      <td>104.0</td>\n",
              "      <td>6.9</td>\n",
              "      <td>2413.0</td>\n",
              "      <td>1995</td>\n",
              "    </tr>\n",
              "    <tr>\n",
              "      <th>2</th>\n",
              "      <td>Grumpier Old Men</td>\n",
              "      <td>[romance, comedy]</td>\n",
              "      <td>101.0</td>\n",
              "      <td>6.5</td>\n",
              "      <td>92.0</td>\n",
              "      <td>1995</td>\n",
              "    </tr>\n",
              "    <tr>\n",
              "      <th>3</th>\n",
              "      <td>Waiting to Exhale</td>\n",
              "      <td>[comedy, drama, romance]</td>\n",
              "      <td>127.0</td>\n",
              "      <td>6.1</td>\n",
              "      <td>34.0</td>\n",
              "      <td>1995</td>\n",
              "    </tr>\n",
              "    <tr>\n",
              "      <th>4</th>\n",
              "      <td>Father of the Bride Part II</td>\n",
              "      <td>[comedy]</td>\n",
              "      <td>106.0</td>\n",
              "      <td>5.7</td>\n",
              "      <td>173.0</td>\n",
              "      <td>1995</td>\n",
              "    </tr>\n",
              "  </tbody>\n",
              "</table>\n",
              "</div>"
            ],
            "text/plain": [
              "                         title                        genres  ...  vote_count  year\n",
              "0                    Toy Story   [animation, comedy, family]  ...      5415.0  1995\n",
              "1                      Jumanji  [adventure, fantasy, family]  ...      2413.0  1995\n",
              "2             Grumpier Old Men             [romance, comedy]  ...        92.0  1995\n",
              "3            Waiting to Exhale      [comedy, drama, romance]  ...        34.0  1995\n",
              "4  Father of the Bride Part II                      [comedy]  ...       173.0  1995\n",
              "\n",
              "[5 rows x 6 columns]"
            ]
          },
          "metadata": {
            "tags": []
          },
          "execution_count": 46
        }
      ]
    },
    {
      "cell_type": "code",
      "metadata": {
        "id": "FKWAIWownIIJ",
        "colab_type": "code",
        "outputId": "e152e182-ad28-4a55-dda6-96a249a51676",
        "colab": {
          "base_uri": "https://localhost:8080/",
          "height": 262
        }
      },
      "source": [
        "#Create a new feature by exploding genres\n",
        "s = df.apply(lambda x: pd.Series(x['genres']),axis=1).stack().reset_index(level=1, drop=True)\n",
        "\n",
        "#Name the new feature as 'genre'\n",
        "s.name = 'genre'\n",
        "\n",
        "#Create a new dataframe gen_df which by dropping the old 'genres' feature and adding the new 'genre'.\n",
        "gen_df = df.drop('genres', axis=1).join(s)\n",
        "\n",
        "#Print the head of the new gen_df\n",
        "gen_df.head()"
      ],
      "execution_count": 47,
      "outputs": [
        {
          "output_type": "stream",
          "text": [
            "/usr/local/lib/python3.6/dist-packages/ipykernel_launcher.py:1: DeprecationWarning: The default dtype for empty Series will be 'object' instead of 'float64' in a future version. Specify a dtype explicitly to silence this warning.\n",
            "  \"\"\"Entry point for launching an IPython kernel.\n"
          ],
          "name": "stderr"
        },
        {
          "output_type": "execute_result",
          "data": {
            "text/html": [
              "<div>\n",
              "<style scoped>\n",
              "    .dataframe tbody tr th:only-of-type {\n",
              "        vertical-align: middle;\n",
              "    }\n",
              "\n",
              "    .dataframe tbody tr th {\n",
              "        vertical-align: top;\n",
              "    }\n",
              "\n",
              "    .dataframe thead th {\n",
              "        text-align: right;\n",
              "    }\n",
              "</style>\n",
              "<table border=\"1\" class=\"dataframe\">\n",
              "  <thead>\n",
              "    <tr style=\"text-align: right;\">\n",
              "      <th></th>\n",
              "      <th>title</th>\n",
              "      <th>runtime</th>\n",
              "      <th>vote_average</th>\n",
              "      <th>vote_count</th>\n",
              "      <th>year</th>\n",
              "      <th>genre</th>\n",
              "    </tr>\n",
              "  </thead>\n",
              "  <tbody>\n",
              "    <tr>\n",
              "      <th>0</th>\n",
              "      <td>Toy Story</td>\n",
              "      <td>81.0</td>\n",
              "      <td>7.7</td>\n",
              "      <td>5415.0</td>\n",
              "      <td>1995</td>\n",
              "      <td>animation</td>\n",
              "    </tr>\n",
              "    <tr>\n",
              "      <th>0</th>\n",
              "      <td>Toy Story</td>\n",
              "      <td>81.0</td>\n",
              "      <td>7.7</td>\n",
              "      <td>5415.0</td>\n",
              "      <td>1995</td>\n",
              "      <td>comedy</td>\n",
              "    </tr>\n",
              "    <tr>\n",
              "      <th>0</th>\n",
              "      <td>Toy Story</td>\n",
              "      <td>81.0</td>\n",
              "      <td>7.7</td>\n",
              "      <td>5415.0</td>\n",
              "      <td>1995</td>\n",
              "      <td>family</td>\n",
              "    </tr>\n",
              "    <tr>\n",
              "      <th>1</th>\n",
              "      <td>Jumanji</td>\n",
              "      <td>104.0</td>\n",
              "      <td>6.9</td>\n",
              "      <td>2413.0</td>\n",
              "      <td>1995</td>\n",
              "      <td>adventure</td>\n",
              "    </tr>\n",
              "    <tr>\n",
              "      <th>1</th>\n",
              "      <td>Jumanji</td>\n",
              "      <td>104.0</td>\n",
              "      <td>6.9</td>\n",
              "      <td>2413.0</td>\n",
              "      <td>1995</td>\n",
              "      <td>fantasy</td>\n",
              "    </tr>\n",
              "  </tbody>\n",
              "</table>\n",
              "</div>"
            ],
            "text/plain": [
              "       title  runtime  vote_average  vote_count  year      genre\n",
              "0  Toy Story     81.0           7.7      5415.0  1995  animation\n",
              "0  Toy Story     81.0           7.7      5415.0  1995     comedy\n",
              "0  Toy Story     81.0           7.7      5415.0  1995     family\n",
              "1    Jumanji    104.0           6.9      2413.0  1995  adventure\n",
              "1    Jumanji    104.0           6.9      2413.0  1995    fantasy"
            ]
          },
          "metadata": {
            "tags": []
          },
          "execution_count": 47
        }
      ]
    },
    {
      "cell_type": "code",
      "metadata": {
        "id": "eTFAzdhfnIIO",
        "colab_type": "code",
        "colab": {}
      },
      "source": [
        "def build_chart(gen_df, percentile=0.8):\n",
        "    #Ask for preferred genres\n",
        "    print(\"Input preferred genre\")\n",
        "    genre = input()\n",
        "    \n",
        "    #Ask for lower limit of duration\n",
        "    print(\"Input shortest duration\")\n",
        "    low_time = int(input())\n",
        "    \n",
        "    #Ask for upper limit of duration\n",
        "    print(\"Input longest duration\")\n",
        "    high_time = int(input())\n",
        "    \n",
        "    #Ask for lower limit of timeline\n",
        "    print(\"Input earliest year\")\n",
        "    low_year = int(input())\n",
        "    \n",
        "    #Ask for upper limit of timeline\n",
        "    print(\"Input latest year\")\n",
        "    high_year = int(input())\n",
        "    \n",
        "    #Define a new movies variable to store the preferred movies. Copy the contents of gen_df to movies\n",
        "    movies = gen_df.copy()\n",
        "    \n",
        "    #Filter based on the condition\n",
        "    movies = movies[(movies['genre'] == genre) & \n",
        "                    (movies['runtime'] >= low_time) & \n",
        "                    (movies['runtime'] <= high_time) & \n",
        "                    (movies['year'] >= low_year) & \n",
        "                    (movies['year'] <= high_year)]\n",
        "    \n",
        "    #Compute the values of C and m for the filtered movies\n",
        "    C = movies['vote_average'].mean()\n",
        "    m = movies['vote_count'].quantile(percentile)\n",
        "    \n",
        "    #Only consider movies that have higher than m votes. Save this in a new dataframe q_movies\n",
        "    q_movies = movies.copy().loc[movies['vote_count'] >= m]\n",
        "    \n",
        "    #Calculate score using the IMDB formula\n",
        "    q_movies['score'] = q_movies.apply(lambda x: (x['vote_count']/(x['vote_count']+m) * x['vote_average']) \n",
        "                                       + (m/(m+x['vote_count']) * C)\n",
        "                                       ,axis=1)\n",
        "\n",
        "    #Sort movies in descending order of their scores\n",
        "    q_movies = q_movies.sort_values('score', ascending=False)\n",
        "    \n",
        "    return q_movies"
      ],
      "execution_count": 0,
      "outputs": []
    },
    {
      "cell_type": "code",
      "metadata": {
        "id": "9Sv1YAUjnIIT",
        "colab_type": "code",
        "outputId": "999c9329-a9aa-4f17-c4dc-caf3dd25d68a",
        "colab": {
          "base_uri": "https://localhost:8080/",
          "height": 387
        }
      },
      "source": [
        "#Generate the chart for top animation movies and display top 5.\n",
        "build_chart(gen_df).head()"
      ],
      "execution_count": 49,
      "outputs": [
        {
          "output_type": "stream",
          "text": [
            "Input preferred genre\n",
            "action\n",
            "Input shortest duration\n",
            "3\n",
            "Input longest duration\n",
            "1995\n",
            "Input earliest year\n",
            "2013\n",
            "Input latest year\n",
            "2016\n"
          ],
          "name": "stdout"
        },
        {
          "output_type": "execute_result",
          "data": {
            "text/html": [
              "<div>\n",
              "<style scoped>\n",
              "    .dataframe tbody tr th:only-of-type {\n",
              "        vertical-align: middle;\n",
              "    }\n",
              "\n",
              "    .dataframe tbody tr th {\n",
              "        vertical-align: top;\n",
              "    }\n",
              "\n",
              "    .dataframe thead th {\n",
              "        text-align: right;\n",
              "    }\n",
              "</style>\n",
              "<table border=\"1\" class=\"dataframe\">\n",
              "  <thead>\n",
              "    <tr style=\"text-align: right;\">\n",
              "      <th></th>\n",
              "      <th>title</th>\n",
              "      <th>runtime</th>\n",
              "      <th>vote_average</th>\n",
              "      <th>vote_count</th>\n",
              "      <th>year</th>\n",
              "      <th>genre</th>\n",
              "      <th>score</th>\n",
              "    </tr>\n",
              "  </thead>\n",
              "  <tbody>\n",
              "    <tr>\n",
              "      <th>23753</th>\n",
              "      <td>Guardians of the Galaxy</td>\n",
              "      <td>121.0</td>\n",
              "      <td>7.9</td>\n",
              "      <td>10014.0</td>\n",
              "      <td>2014</td>\n",
              "      <td>action</td>\n",
              "      <td>7.800031</td>\n",
              "    </tr>\n",
              "    <tr>\n",
              "      <th>24455</th>\n",
              "      <td>Big Hero 6</td>\n",
              "      <td>102.0</td>\n",
              "      <td>7.8</td>\n",
              "      <td>6289.0</td>\n",
              "      <td>2014</td>\n",
              "      <td>action</td>\n",
              "      <td>7.651834</td>\n",
              "    </tr>\n",
              "    <tr>\n",
              "      <th>25534</th>\n",
              "      <td>Kingsman: The Secret Service</td>\n",
              "      <td>130.0</td>\n",
              "      <td>7.6</td>\n",
              "      <td>6069.0</td>\n",
              "      <td>2015</td>\n",
              "      <td>action</td>\n",
              "      <td>7.461148</td>\n",
              "    </tr>\n",
              "    <tr>\n",
              "      <th>23053</th>\n",
              "      <td>Captain America: The Winter Soldier</td>\n",
              "      <td>136.0</td>\n",
              "      <td>7.6</td>\n",
              "      <td>5881.0</td>\n",
              "      <td>2014</td>\n",
              "      <td>action</td>\n",
              "      <td>7.457036</td>\n",
              "    </tr>\n",
              "    <tr>\n",
              "      <th>23465</th>\n",
              "      <td>Edge of Tomorrow</td>\n",
              "      <td>113.0</td>\n",
              "      <td>7.6</td>\n",
              "      <td>4979.0</td>\n",
              "      <td>2014</td>\n",
              "      <td>action</td>\n",
              "      <td>7.433360</td>\n",
              "    </tr>\n",
              "  </tbody>\n",
              "</table>\n",
              "</div>"
            ],
            "text/plain": [
              "                                     title  runtime  ...   genre     score\n",
              "23753              Guardians of the Galaxy    121.0  ...  action  7.800031\n",
              "24455                           Big Hero 6    102.0  ...  action  7.651834\n",
              "25534         Kingsman: The Secret Service    130.0  ...  action  7.461148\n",
              "23053  Captain America: The Winter Soldier    136.0  ...  action  7.457036\n",
              "23465                     Edge of Tomorrow    113.0  ...  action  7.433360\n",
              "\n",
              "[5 rows x 7 columns]"
            ]
          },
          "metadata": {
            "tags": []
          },
          "execution_count": 49
        }
      ]
    },
    {
      "cell_type": "code",
      "metadata": {
        "id": "RpwHChaZnIIY",
        "colab_type": "code",
        "colab": {}
      },
      "source": [
        "#Convert the cleaned (non-exploded) dataframe df into a CSV file and save it in the data folder\n",
        "#Set parameter index to False as the index of the DataFrame has no inherent meaning.\n",
        "# df.to_csv('../data/metadata_clean.csv', index=False)\n",
        "df.to_csv('metadata_clean.csv', index=False)"
      ],
      "execution_count": 0,
      "outputs": []
    },
    {
      "cell_type": "code",
      "metadata": {
        "id": "j-jjNjR5nIId",
        "colab_type": "code",
        "colab": {}
      },
      "source": [
        ""
      ],
      "execution_count": 0,
      "outputs": []
    }
  ]
}